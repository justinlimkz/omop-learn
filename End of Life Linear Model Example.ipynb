{
 "cells": [
  {
   "cell_type": "markdown",
   "metadata": {},
   "source": [
    "## Imports"
   ]
  },
  {
   "cell_type": "code",
   "execution_count": 1,
   "metadata": {},
   "outputs": [],
   "source": [
    "import sys\n",
    "import time\n",
    "import importlib\n",
    "import sparse\n",
    "import datetime\n",
    "import pandas as pd\n",
    "import numpy as np\n",
    "import scipy.sparse\n",
    "import matplotlib.pyplot as plt\n",
    "\n",
    "import Utils.dbutils as dbutils\n",
    "import Utils.data_utils as data_utils\n",
    "import Utils.PopulateAux as PopulateAux\n",
    "import Generators.CohortGenerator as CohortGenerator\n",
    "import Generators.FeatureGenerator as FeatureGenerator\n",
    "import config\n",
    "local_imports = (\n",
    "    dbutils,\n",
    "    data_utils,\n",
    "    PopulateAux,\n",
    "    CohortGenerator,\n",
    "    FeatureGenerator,\n",
    "    config\n",
    ")\n",
    "for i in local_imports:\n",
    "    i = importlib.reload(i)"
   ]
  },
  {
   "cell_type": "markdown",
   "metadata": {},
   "source": [
    "## Cohort, Outcome and Feature Collection\n",
    "\n",
    "### 1. Set up a connection to the OMOP CDM database\n",
    "\n",
    "Parameters for connection to be specified in ./config.py"
   ]
  },
  {
   "cell_type": "code",
   "execution_count": 2,
   "metadata": {},
   "outputs": [
    {
     "name": "stdout",
     "output_type": "stream",
     "text": [
      "Executed 1 SQLs\n"
     ]
    },
    {
     "name": "stderr",
     "output_type": "stream",
     "text": [
      "/home/kodialam/.local/lib/python3.5/site-packages/sqlalchemy/dialects/postgresql/base.py:3285: SAWarning: Skipped unsupported reflection of expression-based index idx__loc_source_value\n",
      "  \"expression-based index %s\" % idx_name\n"
     ]
    }
   ],
   "source": [
    "# database connection\n",
    "username = config.PG_USERNAME\n",
    "password = config.PG_PASSWORD\n",
    "database_name = config.DB_NAME\n",
    "\n",
    "config_path = 'postgresql://{username}:{password}@{database_name}'.format(\n",
    "    username = username,\n",
    "    password = password,\n",
    "    database_name = database_name\n",
    ")\n",
    "\n",
    "# schemas \n",
    "schema_name = 'eol_test' # all created tables will be created using this schema\n",
    "\n",
    "# caching\n",
    "reset_schema = False # if true, rebuild all data from scratch\n",
    "\n",
    "# set up database, reset schemas as needed\n",
    "db = dbutils.Database(config_path, schema_name)\n",
    "if reset_schema:\n",
    "    db.execute(\n",
    "        'drop schema if exists {} cascade'.format(schema_name)\n",
    "    )\n",
    "db.execute(\n",
    "    'create schema if not exists {}'.format(schema_name)\n",
    ")"
   ]
  },
  {
   "cell_type": "markdown",
   "metadata": {},
   "source": [
    "### 2. Example Query of an OMOP-standard Database\n",
    "Wiki page of expected tables [here](https://github.com/OHDSI/CommonDataModel/wiki)"
   ]
  },
  {
   "cell_type": "code",
   "execution_count": 3,
   "metadata": {},
   "outputs": [
    {
     "data": {
      "text/html": [
       "<div>\n",
       "<style scoped>\n",
       "    .dataframe tbody tr th:only-of-type {\n",
       "        vertical-align: middle;\n",
       "    }\n",
       "\n",
       "    .dataframe tbody tr th {\n",
       "        vertical-align: top;\n",
       "    }\n",
       "\n",
       "    .dataframe thead th {\n",
       "        text-align: right;\n",
       "    }\n",
       "</style>\n",
       "<table border=\"1\" class=\"dataframe\">\n",
       "  <thead>\n",
       "    <tr style=\"text-align: right;\">\n",
       "      <th></th>\n",
       "      <th>concept_name</th>\n",
       "      <th>concept_code</th>\n",
       "    </tr>\n",
       "  </thead>\n",
       "  <tbody>\n",
       "    <tr>\n",
       "      <th>0</th>\n",
       "      <td>Pure hypercholesterolemia</td>\n",
       "      <td>ICD9CM: 272.0</td>\n",
       "    </tr>\n",
       "    <tr>\n",
       "      <th>1</th>\n",
       "      <td>Benign prostatic hypertrophy with outflow obst...</td>\n",
       "      <td>ICD9CM: 600.01</td>\n",
       "    </tr>\n",
       "    <tr>\n",
       "      <th>2</th>\n",
       "      <td>Acute pharyngitis</td>\n",
       "      <td>ICD9CM: 462</td>\n",
       "    </tr>\n",
       "    <tr>\n",
       "      <th>3</th>\n",
       "      <td>Cellulitis and abscess of buttock</td>\n",
       "      <td>ICD9CM: 682.5</td>\n",
       "    </tr>\n",
       "    <tr>\n",
       "      <th>4</th>\n",
       "      <td>No matching concept</td>\n",
       "      <td>ICD9CM: 786.4</td>\n",
       "    </tr>\n",
       "  </tbody>\n",
       "</table>\n",
       "</div>"
      ],
      "text/plain": [
       "                                        concept_name    concept_code\n",
       "0                          Pure hypercholesterolemia   ICD9CM: 272.0\n",
       "1  Benign prostatic hypertrophy with outflow obst...  ICD9CM: 600.01\n",
       "2                                  Acute pharyngitis     ICD9CM: 462\n",
       "3                  Cellulitis and abscess of buttock   ICD9CM: 682.5\n",
       "4                                No matching concept   ICD9CM: 786.4"
      ]
     },
     "metadata": {},
     "output_type": "display_data"
    }
   ],
   "source": [
    "sql = \"\"\"\n",
    "    select \n",
    "        b.concept_name as concept_name,\n",
    "        a.condition_source_value as concept_code\n",
    "    from a\n",
    "        {omop_schema}.condition_occurrence a\n",
    "    inner join\n",
    "        {omop_schema}.concept b\n",
    "    on \n",
    "        a.condition_concept_id = b.concept_id\n",
    "    limit 100\n",
    "\"\"\".format(\n",
    "    omop_schema=config.OMOP_CDM_SCHEMA\n",
    ")\n",
    "output_df = db.query(sql)\n",
    "display(output_df.head())"
   ]
  },
  {
   "cell_type": "markdown",
   "metadata": {},
   "source": [
    "### Build a Cohort for the End of Life Prediction Task"
   ]
  },
  {
   "cell_type": "markdown",
   "metadata": {},
   "source": [
    "##### Create a Cohort Object that can be constructed as specified by SQL File & Params"
   ]
  },
  {
   "cell_type": "code",
   "execution_count": 37,
   "metadata": {},
   "outputs": [],
   "source": [
    "cohort_table_name = '__eol_cohort'\n",
    "cohort_script_path = config.SQL_PATH_COHORTS + '/gen_EOL_cohort_small.sql'\n",
    "\n",
    "# cohort parameters  \n",
    "params = {\n",
    "          'omop_cdm_schema'       : config.OMOP_CDM_SCHEMA,\n",
    "          'aux_data_schema'       : config.CDM_AUX_SCHEMA,\n",
    "          'training_start_date'   : '2016-01-01',\n",
    "          'training_end_date'     : '2017-01-01',\n",
    "          'gap'                   : '3 months',\n",
    "          'outcome_window'        : '6 months'\n",
    "         }"
   ]
  },
  {
   "cell_type": "markdown",
   "metadata": {},
   "source": [
    "### Get a Time Series of Features for Cohort Members"
   ]
  },
  {
   "cell_type": "code",
   "execution_count": 41,
   "metadata": {},
   "outputs": [],
   "source": [
    "featureSet = FeatureGenerator.FeatureSet(db)\n",
    "featureSet.add_default_features(\n",
    "    ['drugs','conditions', 'procedures','specialty'],\n",
    "    omop_cdm_schema=config.OMOP_CDM_SCHEMA,\n",
    "    cohort_table_name=cohort_table_name\n",
    ")"
   ]
  },
  {
   "cell_type": "code",
   "execution_count": 42,
   "metadata": {},
   "outputs": [
    {
     "name": "stdout",
     "output_type": "stream",
     "text": [
      "Data loaded to buffer in 1445.19 seconds\n",
      "Got Unique Concepts and Timestamps in 160.23 seconds\n",
      "Created Index Mappings in 0.05 seconds\n",
      "136795\n",
      "Generated Sparse Representation of Data in 517.52 seconds\n",
      "CPU times: user 10min 4s, sys: 2min 29s, total: 12min 34s\n",
      "Wall time: 35min 23s\n"
     ]
    }
   ],
   "source": [
    "%%time\n",
    "# Build the Feature Set by executing SQL queries and reading into sparse matrices\n",
    "cache_data_path = '/tmp/cache_data_eol_test'\n",
    "cohort = featureSet.build(omop_cdm_schema=config.OMOP_CDM_SCHEMA,\n",
    "                 cohort_table_name=cohort_table_name,\n",
    "                 cohort_generation_script=cohort_script_path,\n",
    "                 cohort_generation_kwargs=params,\n",
    "                 outcome_col_name='y',\n",
    "                 from_cached=False, \n",
    "                 cache_file=cache_data_path)"
   ]
  },
  {
   "cell_type": "code",
   "execution_count": 46,
   "metadata": {},
   "outputs": [],
   "source": [
    "outcomes_filt, feature_matrix_3d_transpose, remap, good_feature_names = \\\n",
    "    FeatureGenerator.postprocess_feature_matrix(cohort, featureSet, cohort_generation_kwargs=params)"
   ]
  },
  {
   "cell_type": "markdown",
   "metadata": {},
   "source": [
    "### Build a Model to Predict End of Life using this data"
   ]
  },
  {
   "cell_type": "markdown",
   "metadata": {},
   "source": [
    "#### Transform Data to get a vector of counts over 1, 6, 12, 24 and infinity (represented by 10000 days) month windows for each Patient"
   ]
  },
  {
   "cell_type": "code",
   "execution_count": 48,
   "metadata": {},
   "outputs": [
    {
     "name": "stdout",
     "output_type": "stream",
     "text": [
      "CPU times: user 14min 58s, sys: 2min 40s, total: 17min 38s\n",
      "Wall time: 17min 45s\n"
     ]
    }
   ],
   "source": [
    "%%time\n",
    "feature_matrix_counts, feature_names = data_utils.window_data(\n",
    "    window_lengths = [30, 180, 365, 730, 10000],\n",
    "    feature_matrix = feature_matrix_3d_transpose,\n",
    "    all_feature_names = good_feature_names,\n",
    "    cohort_generation_kwargs = params,\n",
    "    featureSet = featureSet\n",
    ")"
   ]
  },
  {
   "cell_type": "markdown",
   "metadata": {},
   "source": [
    "#### Set up a standard sklearn modelling pipeline"
   ]
  },
  {
   "cell_type": "code",
   "execution_count": 49,
   "metadata": {},
   "outputs": [],
   "source": [
    "from sklearn.linear_model import LogisticRegression\n",
    "from sklearn.preprocessing import FunctionTransformer\n",
    "from sklearn.pipeline import Pipeline\n",
    "from sklearn.model_selection import train_test_split\n",
    "from sklearn.metrics import roc_auc_score, roc_curve, precision_recall_curve, average_precision_score\n",
    "\n",
    "lr = LogisticRegression(\n",
    "    class_weight='balanced', C=0.02,\n",
    "    penalty='l1', fit_intercept=True,\n",
    "    solver='liblinear', random_state=0,\n",
    "    verbose=0, max_iter = 200, tol=1e-1\n",
    ")\n",
    "\n",
    "def sparse_ufunc(f):\n",
    "    def wrapper(*a, **k):\n",
    "        X = a[0]\n",
    "        if not scipy.sparse.isspmatrix(X):\n",
    "            raise ValueError\n",
    "        X2 = X.copy()\n",
    "        X2.data = f(X2.data, *(a[1:]), **k)\n",
    "        return X2\n",
    "    return wrapper\n",
    "\n",
    "@sparse_ufunc\n",
    "def tr_func(X, kwarg=1):\n",
    "    return np.clip(X, 0, kwarg)\n",
    "\n",
    "func = FunctionTransformer(\n",
    "    func=tr_func,\n",
    "    accept_sparse=True,\n",
    "    validate=True,\n",
    "    kw_args={'kwarg': 1}\n",
    ")\n",
    "\n",
    "# The classifier will transform each data point using func, which here takes a count vector to a binary vector\n",
    "# Then, it will use logistic regression to classify the transformed data\n",
    "clf = Pipeline([\n",
    "    ('func',func),\n",
    "    ('lr', lr)\n",
    "])"
   ]
  },
  {
   "cell_type": "markdown",
   "metadata": {},
   "source": [
    "#### Instantiate, Train and Test Model"
   ]
  },
  {
   "cell_type": "code",
   "execution_count": 63,
   "metadata": {},
   "outputs": [
    {
     "name": "stdout",
     "output_type": "stream",
     "text": [
      "Model Test AUC: 0.80\n"
     ]
    }
   ],
   "source": [
    "indices = range(len(outcomes_filt))\n",
    "X_train, X_test, y_train, y_test, indices_train, indices_test = train_test_split(\n",
    "    feature_matrix_counts.T, outcomes_filt, indices,\n",
    "    test_size=0.2, random_state=1\n",
    ")\n",
    "clf.fit(X_train, y_train)\n",
    "pred = clf.predict_proba(X_test)[:, 1]\n",
    "print('Model Test AUC: {0:.2f}'.format(roc_auc_score(y_test, pred)))"
   ]
  },
  {
   "cell_type": "markdown",
   "metadata": {},
   "source": [
    "#### Evaluate Model : RoC and Precision-Recall Curves"
   ]
  },
  {
   "cell_type": "code",
   "execution_count": 75,
   "metadata": {},
   "outputs": [
    {
     "data": {
      "image/png": "[encoded data removed]",
      "text/plain": [
       "<Figure size 432x288 with 1 Axes>"
      ]
     },
     "metadata": {
      "needs_background": "light"
     },
     "output_type": "display_data"
    }
   ],
   "source": [
    "fpr, tpr, _ = roc_curve(y_test, pred)\n",
    "plt.figure()\n",
    "lw = 2\n",
    "plt.fill_between(fpr, tpr, color='b', alpha = 0.2,\n",
    "         lw=lw, label='ROC curve (area = %0.2f)' % roc_auc_score(y_test, pred))\n",
    "plt.plot([0, 1], [0, 1], color='navy', lw=lw, linestyle='--')\n",
    "plt.xlim([0.0, 1.0])\n",
    "plt.ylim([0.0, 1.05])\n",
    "plt.xlabel('False Positive Rate')\n",
    "plt.ylabel('True Positive Rate')\n",
    "plt.title('Receiver operating characteristic - EoL Model')\n",
    "plt.legend(loc=\"lower right\")\n",
    "plt.show()"
   ]
  },
  {
   "cell_type": "code",
   "execution_count": 65,
   "metadata": {},
   "outputs": [
    {
     "data": {
      "image/png": "[encoded data removed]",
      "text/plain": [
       "<Figure size 432x288 with 1 Axes>"
      ]
     },
     "metadata": {
      "needs_background": "light"
     },
     "output_type": "display_data"
    }
   ],
   "source": [
    "precision, recall, _ = precision_recall_curve(y_test, pred)\n",
    "\n",
    "from sklearn.metrics import average_precision_score\n",
    "average_precision = average_precision_score(y_test, pred)\n",
    "\n",
    "plt.figure()\n",
    "plt.step(recall, precision, color='b', alpha=0.2,\n",
    "         where='post')\n",
    "plt.fill_between(\n",
    "    recall, precision, alpha=0.2, color='b',\n",
    "    label='P-R curve (average precision = %0.2f)' % average_precision\n",
    ")\n",
    "\n",
    "plt.xlabel('Recall')\n",
    "plt.ylabel('Precision')\n",
    "plt.ylim([0.0, 0.5])\n",
    "plt.xlim([0.0, 1.0])\n",
    "plt.legend(loc=\"upper right\")\n",
    "plt.title('Precision-Recall curve - EoL Model')\n",
    "plt.show()"
   ]
  },
  {
   "cell_type": "markdown",
   "metadata": {},
   "source": [
    "#### Evaluate Model : Extract Feature Weights"
   ]
  },
  {
   "cell_type": "code",
   "execution_count": 66,
   "metadata": {},
   "outputs": [],
   "source": [
    "feature_weights = pd.DataFrame({\n",
    "    'feature_name': feature_names,\n",
    "    'feature_weight': list(clf.get_params()['lr'].coef_[0])\n",
    "}).sort_values(by='feature_weight')\n",
    "pd.set_option('display.max_colwidth', -1)"
   ]
  },
  {
   "cell_type": "code",
   "execution_count": 67,
   "metadata": {},
   "outputs": [
    {
     "data": {
      "text/html": [
       "<div>\n",
       "<style scoped>\n",
       "    .dataframe tbody tr th:only-of-type {\n",
       "        vertical-align: middle;\n",
       "    }\n",
       "\n",
       "    .dataframe tbody tr th {\n",
       "        vertical-align: top;\n",
       "    }\n",
       "\n",
       "    .dataframe thead th {\n",
       "        text-align: right;\n",
       "    }\n",
       "</style>\n",
       "<table border=\"1\" class=\"dataframe\">\n",
       "  <thead>\n",
       "    <tr style=\"text-align: right;\">\n",
       "      <th></th>\n",
       "      <th>feature_name</th>\n",
       "      <th>feature_weight</th>\n",
       "    </tr>\n",
       "  </thead>\n",
       "  <tbody>\n",
       "    <tr>\n",
       "      <th>131710</th>\n",
       "      <td>4001171 - condition - Liver cell carcinoma - 730 days</td>\n",
       "      <td>0.441087</td>\n",
       "    </tr>\n",
       "    <tr>\n",
       "      <th>120087</th>\n",
       "      <td>2211508 - procedure - Radiologic examination, abdomen; complete, including decubitus and/or erect views - 730 days</td>\n",
       "      <td>0.444479</td>\n",
       "    </tr>\n",
       "    <tr>\n",
       "      <th>63691</th>\n",
       "      <td>4152384 - condition - Non-rheumatic aortic sclerosis - 180 days</td>\n",
       "      <td>0.457767</td>\n",
       "    </tr>\n",
       "    <tr>\n",
       "      <th>77428</th>\n",
       "      <td>196925 - condition - Secondary malignant neoplasm of retroperitoneum and peritoneum - 365 days</td>\n",
       "      <td>0.464019</td>\n",
       "    </tr>\n",
       "    <tr>\n",
       "      <th>136610</th>\n",
       "      <td>4155034 - condition - Laceration of forearm - 730 days</td>\n",
       "      <td>0.464407</td>\n",
       "    </tr>\n",
       "    <tr>\n",
       "      <th>156125</th>\n",
       "      <td>2111054 - procedure - Treatment of extensive or progressive retinopathy (eg, diabetic retinopathy), photocoagulation - 10000 days</td>\n",
       "      <td>0.473012</td>\n",
       "    </tr>\n",
       "    <tr>\n",
       "      <th>136643</th>\n",
       "      <td>4157389 - condition - Protein deficiency disease - 730 days</td>\n",
       "      <td>0.493533</td>\n",
       "    </tr>\n",
       "    <tr>\n",
       "      <th>147484</th>\n",
       "      <td>1719007 - drug - Osmotic 24 HR Nifedipine 30 MG Extended Release Oral Tablet - 10000 days</td>\n",
       "      <td>0.509225</td>\n",
       "    </tr>\n",
       "    <tr>\n",
       "      <th>139214</th>\n",
       "      <td>43011909 - drug - 12 HR Aspirin 25 MG / Dipyridamole 200 MG Extended Release Oral Capsule [Aggrenox] - 730 days</td>\n",
       "      <td>0.532505</td>\n",
       "    </tr>\n",
       "    <tr>\n",
       "      <th>175240</th>\n",
       "      <td>42873649 - drug - 0.5 ML Influenza A virus vaccine, A-California-7-2009 (H1N1)-like virus 0.03 MG/ML / Influenza A virus vaccine, A-Victoria-361-2011 (H3N2)-like virus 0.03 MG/ML / Influenza B virus vaccine, B-Wisconsin-1-2010-like virus 0.03 MG/ML Prefilled Syringe [Fluar - 10000 days</td>\n",
       "      <td>0.549499</td>\n",
       "    </tr>\n",
       "    <tr>\n",
       "      <th>120766</th>\n",
       "      <td>2313827 - procedure - Rhythm ECG, 1-3 leads; interpretation and report only - 730 days</td>\n",
       "      <td>0.555944</td>\n",
       "    </tr>\n",
       "    <tr>\n",
       "      <th>178096</th>\n",
       "      <td>438383 - condition - Essential thrombocythemia - 10000 days</td>\n",
       "      <td>0.559293</td>\n",
       "    </tr>\n",
       "    <tr>\n",
       "      <th>181258</th>\n",
       "      <td>78097 - condition - Secondary malignant neoplasm of bone - 10000 days</td>\n",
       "      <td>0.565785</td>\n",
       "    </tr>\n",
       "    <tr>\n",
       "      <th>156391</th>\n",
       "      <td>2211374 - procedure - Radiologic examination, ribs, bilateral; 3 views - 10000 days</td>\n",
       "      <td>0.567901</td>\n",
       "    </tr>\n",
       "    <tr>\n",
       "      <th>144897</th>\n",
       "      <td>78706 - condition - Benign neoplasm of urinary system - 730 days</td>\n",
       "      <td>0.609550</td>\n",
       "    </tr>\n",
       "    <tr>\n",
       "      <th>173044</th>\n",
       "      <td>4155034 - condition - Laceration of forearm - 10000 days</td>\n",
       "      <td>0.645616</td>\n",
       "    </tr>\n",
       "    <tr>\n",
       "      <th>100326</th>\n",
       "      <td>4168700 - condition - Localized enlarged lymph nodes - 365 days</td>\n",
       "      <td>0.663873</td>\n",
       "    </tr>\n",
       "    <tr>\n",
       "      <th>167861</th>\n",
       "      <td>378419 - condition - Alzheimer's disease - 10000 days</td>\n",
       "      <td>0.667106</td>\n",
       "    </tr>\n",
       "    <tr>\n",
       "      <th>169200</th>\n",
       "      <td>40171499 - drug - 24 HR Verapamil hydrochloride 120 MG Extended Release Oral Capsule - 10000 days</td>\n",
       "      <td>0.709910</td>\n",
       "    </tr>\n",
       "    <tr>\n",
       "      <th>177860</th>\n",
       "      <td>437366 - condition - Contracture of tendon sheath - 10000 days</td>\n",
       "      <td>0.734703</td>\n",
       "    </tr>\n",
       "  </tbody>\n",
       "</table>\n",
       "</div>"
      ],
      "text/plain": [
       "                                                                                                                                                                                                                                                                                          feature_name  \\\n",
       "131710  4001171 - condition - Liver cell carcinoma - 730 days                                                                                                                                                                                                                                            \n",
       "120087  2211508 - procedure - Radiologic examination, abdomen; complete, including decubitus and/or erect views - 730 days                                                                                                                                                                               \n",
       "63691   4152384 - condition - Non-rheumatic aortic sclerosis - 180 days                                                                                                                                                                                                                                  \n",
       "77428   196925 - condition - Secondary malignant neoplasm of retroperitoneum and peritoneum - 365 days                                                                                                                                                                                                   \n",
       "136610  4155034 - condition - Laceration of forearm - 730 days                                                                                                                                                                                                                                           \n",
       "156125  2111054 - procedure - Treatment of extensive or progressive retinopathy (eg, diabetic retinopathy), photocoagulation - 10000 days                                                                                                                                                                \n",
       "136643  4157389 - condition - Protein deficiency disease - 730 days                                                                                                                                                                                                                                      \n",
       "147484  1719007 - drug - Osmotic 24 HR Nifedipine 30 MG Extended Release Oral Tablet - 10000 days                                                                                                                                                                                                        \n",
       "139214  43011909 - drug - 12 HR Aspirin 25 MG / Dipyridamole 200 MG Extended Release Oral Capsule [Aggrenox] - 730 days                                                                                                                                                                                  \n",
       "175240  42873649 - drug - 0.5 ML Influenza A virus vaccine, A-California-7-2009 (H1N1)-like virus 0.03 MG/ML / Influenza A virus vaccine, A-Victoria-361-2011 (H3N2)-like virus 0.03 MG/ML / Influenza B virus vaccine, B-Wisconsin-1-2010-like virus 0.03 MG/ML Prefilled Syringe [Fluar - 10000 days   \n",
       "120766  2313827 - procedure - Rhythm ECG, 1-3 leads; interpretation and report only - 730 days                                                                                                                                                                                                           \n",
       "178096  438383 - condition - Essential thrombocythemia - 10000 days                                                                                                                                                                                                                                      \n",
       "181258  78097 - condition - Secondary malignant neoplasm of bone - 10000 days                                                                                                                                                                                                                            \n",
       "156391  2211374 - procedure - Radiologic examination, ribs, bilateral; 3 views - 10000 days                                                                                                                                                                                                              \n",
       "144897  78706 - condition - Benign neoplasm of urinary system - 730 days                                                                                                                                                                                                                                 \n",
       "173044  4155034 - condition - Laceration of forearm - 10000 days                                                                                                                                                                                                                                         \n",
       "100326  4168700 - condition - Localized enlarged lymph nodes - 365 days                                                                                                                                                                                                                                  \n",
       "167861  378419 - condition - Alzheimer's disease - 10000 days                                                                                                                                                                                                                                            \n",
       "169200  40171499 - drug - 24 HR Verapamil hydrochloride 120 MG Extended Release Oral Capsule - 10000 days                                                                                                                                                                                                \n",
       "177860  437366 - condition - Contracture of tendon sheath - 10000 days                                                                                                                                                                                                                                   \n",
       "\n",
       "        feature_weight  \n",
       "131710  0.441087        \n",
       "120087  0.444479        \n",
       "63691   0.457767        \n",
       "77428   0.464019        \n",
       "136610  0.464407        \n",
       "156125  0.473012        \n",
       "136643  0.493533        \n",
       "147484  0.509225        \n",
       "139214  0.532505        \n",
       "175240  0.549499        \n",
       "120766  0.555944        \n",
       "178096  0.559293        \n",
       "181258  0.565785        \n",
       "156391  0.567901        \n",
       "144897  0.609550        \n",
       "173044  0.645616        \n",
       "100326  0.663873        \n",
       "167861  0.667106        \n",
       "169200  0.709910        \n",
       "177860  0.734703        "
      ]
     },
     "execution_count": 67,
     "metadata": {},
     "output_type": "execute_result"
    }
   ],
   "source": [
    "feature_weights.tail(20)"
   ]
  },
  {
   "cell_type": "code",
   "execution_count": 68,
   "metadata": {},
   "outputs": [
    {
     "data": {
      "text/html": [
       "<div>\n",
       "<style scoped>\n",
       "    .dataframe tbody tr th:only-of-type {\n",
       "        vertical-align: middle;\n",
       "    }\n",
       "\n",
       "    .dataframe tbody tr th {\n",
       "        vertical-align: top;\n",
       "    }\n",
       "\n",
       "    .dataframe thead th {\n",
       "        text-align: right;\n",
       "    }\n",
       "</style>\n",
       "<table border=\"1\" class=\"dataframe\">\n",
       "  <thead>\n",
       "    <tr style=\"text-align: right;\">\n",
       "      <th></th>\n",
       "      <th>feature_name</th>\n",
       "      <th>feature_weight</th>\n",
       "    </tr>\n",
       "  </thead>\n",
       "  <tbody>\n",
       "    <tr>\n",
       "      <th>84104</th>\n",
       "      <td>2213282 - procedure - Level III - Surgical pathology, gross and microscopic examination Abortion, induced Abscess Aneurysm - arterial/ventricular Anus, tag Appendix, other than incidental Artery, atheromatous plaque Bartholin's gland cyst Bone fragment(s), other than pathologi - 365 days</td>\n",
       "      <td>-0.869867</td>\n",
       "    </tr>\n",
       "    <tr>\n",
       "      <th>177139</th>\n",
       "      <td>43528020 - procedure - Nerve conduction studies; 9-10 studies - 10000 days</td>\n",
       "      <td>-0.651872</td>\n",
       "    </tr>\n",
       "    <tr>\n",
       "      <th>118438</th>\n",
       "      <td>2109194 - procedure - Colonoscopy, flexible; diagnostic, including collection of specimen(s) by brushing or washing, when performed (separate procedure) - 730 days</td>\n",
       "      <td>-0.552424</td>\n",
       "    </tr>\n",
       "    <tr>\n",
       "      <th>48359</th>\n",
       "      <td>2514405 - procedure - Initial hospital care, per day, for the evaluation and management of a patient, which requires these 3 key components: A comprehensive history; A comprehensive examination; and Medical decision making of moderate complexity. Counseling and/or coordination - 180 days</td>\n",
       "      <td>-0.550425</td>\n",
       "    </tr>\n",
       "    <tr>\n",
       "      <th>177317</th>\n",
       "      <td>43533326 - procedure - Carrying, moving and handling objects, projected goal status, at therapy episode outset, at reporting intervals, and at discharge or to end reporting - 10000 days</td>\n",
       "      <td>-0.505235</td>\n",
       "    </tr>\n",
       "    <tr>\n",
       "      <th>173429</th>\n",
       "      <td>4184592 - procedure - Aortography - 10000 days</td>\n",
       "      <td>-0.501241</td>\n",
       "    </tr>\n",
       "    <tr>\n",
       "      <th>157738</th>\n",
       "      <td>2514528 - procedure - Periodic comprehensive preventive medicine reevaluation and management of an individual including an age and gender appropriate history, examination, counseling/anticipatory guidance/risk factor reduction interventions, and the ordering of laboratory/diag - 10000 days</td>\n",
       "      <td>-0.478271</td>\n",
       "    </tr>\n",
       "    <tr>\n",
       "      <th>149786</th>\n",
       "      <td>19135223 - drug - Hydrochlorothiazide 25 MG / Olmesartan medoxomil 40 MG Oral Tablet [Benicar HCT] - 10000 days</td>\n",
       "      <td>-0.463479</td>\n",
       "    </tr>\n",
       "    <tr>\n",
       "      <th>84618</th>\n",
       "      <td>2314215 - procedure - Therapeutic, prophylactic, or diagnostic injection (specify substance or drug); intravenous push, single or initial substance/drug - 365 days</td>\n",
       "      <td>-0.461951</td>\n",
       "    </tr>\n",
       "    <tr>\n",
       "      <th>175126</th>\n",
       "      <td>42800464 - drug - 0.5 ML Bordetella pertussis filamentous hemagglutinin vaccine, inactivated 0.01 MG/ML / Bordetella pertussis fimbriae 2/3 vaccine, inactivated 0.01 MG/ML / Bordetella pertussis pertactin vaccine, inactivated 0.006 MG/ML / Bordetella pertussis toxoid vacci - 10000 days</td>\n",
       "      <td>-0.450040</td>\n",
       "    </tr>\n",
       "    <tr>\n",
       "      <th>129984</th>\n",
       "      <td>317893 - condition - Paroxysmal supraventricular tachycardia - 730 days</td>\n",
       "      <td>-0.449737</td>\n",
       "    </tr>\n",
       "    <tr>\n",
       "      <th>141673</th>\n",
       "      <td>438430 - condition - Squamous blepharitis - 730 days</td>\n",
       "      <td>-0.442513</td>\n",
       "    </tr>\n",
       "    <tr>\n",
       "      <th>181637</th>\n",
       "      <td>81878 - condition - Benign paroxysmal positional vertigo - 10000 days</td>\n",
       "      <td>-0.438322</td>\n",
       "    </tr>\n",
       "    <tr>\n",
       "      <th>144888</th>\n",
       "      <td>78619 - condition - Contusion of knee - 730 days</td>\n",
       "      <td>-0.422702</td>\n",
       "    </tr>\n",
       "    <tr>\n",
       "      <th>117560</th>\n",
       "      <td>2106988 - procedure - Insertion of new or replacement of permanent pacemaker with transvenous electrode(s); atrial and ventricular - 730 days</td>\n",
       "      <td>-0.412711</td>\n",
       "    </tr>\n",
       "    <tr>\n",
       "      <th>133591</th>\n",
       "      <td>40225811 - drug - 5 ML Lidocaine Hydrochloride 20 MG/ML Prefilled Syringe - 730 days</td>\n",
       "      <td>-0.390625</td>\n",
       "    </tr>\n",
       "    <tr>\n",
       "      <th>157975</th>\n",
       "      <td>260427 - condition - Common cold - 10000 days</td>\n",
       "      <td>-0.389249</td>\n",
       "    </tr>\n",
       "    <tr>\n",
       "      <th>58195</th>\n",
       "      <td>374375 - condition - Impacted cerumen - 180 days</td>\n",
       "      <td>-0.383727</td>\n",
       "    </tr>\n",
       "    <tr>\n",
       "      <th>120868</th>\n",
       "      <td>2313972 - procedure - Physician or other qualified health care professional services for outpatient cardiac rehabilitation; with continuous ECG monitoring (per session) - 730 days</td>\n",
       "      <td>-0.378724</td>\n",
       "    </tr>\n",
       "    <tr>\n",
       "      <th>141739</th>\n",
       "      <td>438725 - condition - Disorder of magnesium metabolism - 730 days</td>\n",
       "      <td>-0.377760</td>\n",
       "    </tr>\n",
       "  </tbody>\n",
       "</table>\n",
       "</div>"
      ],
      "text/plain": [
       "                                                                                                                                                                                                                                                                                              feature_name  \\\n",
       "84104   2213282 - procedure - Level III - Surgical pathology, gross and microscopic examination Abortion, induced Abscess Aneurysm - arterial/ventricular Anus, tag Appendix, other than incidental Artery, atheromatous plaque Bartholin's gland cyst Bone fragment(s), other than pathologi - 365 days     \n",
       "177139  43528020 - procedure - Nerve conduction studies; 9-10 studies - 10000 days                                                                                                                                                                                                                           \n",
       "118438  2109194 - procedure - Colonoscopy, flexible; diagnostic, including collection of specimen(s) by brushing or washing, when performed (separate procedure) - 730 days                                                                                                                                  \n",
       "48359   2514405 - procedure - Initial hospital care, per day, for the evaluation and management of a patient, which requires these 3 key components: A comprehensive history; A comprehensive examination; and Medical decision making of moderate complexity. Counseling and/or coordination - 180 days     \n",
       "177317  43533326 - procedure - Carrying, moving and handling objects, projected goal status, at therapy episode outset, at reporting intervals, and at discharge or to end reporting - 10000 days                                                                                                            \n",
       "173429  4184592 - procedure - Aortography - 10000 days                                                                                                                                                                                                                                                       \n",
       "157738  2514528 - procedure - Periodic comprehensive preventive medicine reevaluation and management of an individual including an age and gender appropriate history, examination, counseling/anticipatory guidance/risk factor reduction interventions, and the ordering of laboratory/diag - 10000 days   \n",
       "149786  19135223 - drug - Hydrochlorothiazide 25 MG / Olmesartan medoxomil 40 MG Oral Tablet [Benicar HCT] - 10000 days                                                                                                                                                                                      \n",
       "84618   2314215 - procedure - Therapeutic, prophylactic, or diagnostic injection (specify substance or drug); intravenous push, single or initial substance/drug - 365 days                                                                                                                                  \n",
       "175126  42800464 - drug - 0.5 ML Bordetella pertussis filamentous hemagglutinin vaccine, inactivated 0.01 MG/ML / Bordetella pertussis fimbriae 2/3 vaccine, inactivated 0.01 MG/ML / Bordetella pertussis pertactin vaccine, inactivated 0.006 MG/ML / Bordetella pertussis toxoid vacci - 10000 days       \n",
       "129984  317893 - condition - Paroxysmal supraventricular tachycardia - 730 days                                                                                                                                                                                                                              \n",
       "141673  438430 - condition - Squamous blepharitis - 730 days                                                                                                                                                                                                                                                 \n",
       "181637  81878 - condition - Benign paroxysmal positional vertigo - 10000 days                                                                                                                                                                                                                                \n",
       "144888  78619 - condition - Contusion of knee - 730 days                                                                                                                                                                                                                                                     \n",
       "117560  2106988 - procedure - Insertion of new or replacement of permanent pacemaker with transvenous electrode(s); atrial and ventricular - 730 days                                                                                                                                                        \n",
       "133591  40225811 - drug - 5 ML Lidocaine Hydrochloride 20 MG/ML Prefilled Syringe - 730 days                                                                                                                                                                                                                 \n",
       "157975  260427 - condition - Common cold - 10000 days                                                                                                                                                                                                                                                        \n",
       "58195   374375 - condition - Impacted cerumen - 180 days                                                                                                                                                                                                                                                     \n",
       "120868  2313972 - procedure - Physician or other qualified health care professional services for outpatient cardiac rehabilitation; with continuous ECG monitoring (per session) - 730 days                                                                                                                  \n",
       "141739  438725 - condition - Disorder of magnesium metabolism - 730 days                                                                                                                                                                                                                                     \n",
       "\n",
       "        feature_weight  \n",
       "84104  -0.869867        \n",
       "177139 -0.651872        \n",
       "118438 -0.552424        \n",
       "48359  -0.550425        \n",
       "177317 -0.505235        \n",
       "173429 -0.501241        \n",
       "157738 -0.478271        \n",
       "149786 -0.463479        \n",
       "84618  -0.461951        \n",
       "175126 -0.450040        \n",
       "129984 -0.449737        \n",
       "141673 -0.442513        \n",
       "181637 -0.438322        \n",
       "144888 -0.422702        \n",
       "117560 -0.412711        \n",
       "133591 -0.390625        \n",
       "157975 -0.389249        \n",
       "58195  -0.383727        \n",
       "120868 -0.378724        \n",
       "141739 -0.377760        "
      ]
     },
     "execution_count": 68,
     "metadata": {},
     "output_type": "execute_result"
    }
   ],
   "source": [
    "feature_weights.head(20)"
   ]
  },
  {
   "cell_type": "code",
   "execution_count": 69,
   "metadata": {},
   "outputs": [
    {
     "name": "stdout",
     "output_type": "stream",
     "text": [
      "Number of nonzero procedure feature weights : 488\n",
      "Number of nonzero condition feature weights : 744\n",
      "Number of nonzero drug feature weights : 321\n"
     ]
    }
   ],
   "source": [
    "for category in ['procedure', 'condition', 'drug', 'specialty']:\n",
    "    print('Number of nonzero {} feature weights : {}'.format(\n",
    "        category,\n",
    "        sum(feature_weights.loc[\n",
    "            [i for i,j in enumerate(feature_names) if '- ' + category + ' -' in j]\n",
    "        ]['feature_weight'] != 0)\n",
    "    ))"
   ]
  }
 ],
 "metadata": {
  "kernelspec": {
   "display_name": "Python 3",
   "language": "python",
   "name": "python3"
  },
  "language_info": {
   "codemirror_mode": {
    "name": "ipython",
    "version": 3
   },
   "file_extension": ".py",
   "mimetype": "text/x-python",
   "name": "python",
   "nbconvert_exporter": "python",
   "pygments_lexer": "ipython3",
   "version": "3.7.4"
  }
 },
 "nbformat": 4,
 "nbformat_minor": 4
}
