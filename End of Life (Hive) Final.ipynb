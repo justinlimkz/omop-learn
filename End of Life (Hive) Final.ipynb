{
 "cells": [
  {
   "cell_type": "markdown",
   "metadata": {},
   "source": [
    "## Imports"
   ]
  },
  {
   "cell_type": "code",
   "execution_count": 31,
   "metadata": {},
   "outputs": [],
   "source": [
    "import sys\n",
    "import time\n",
    "import importlib\n",
    "import sparse\n",
    "import datetime\n",
    "import pandas as pd\n",
    "import numpy as np\n",
    "import scipy.sparse\n",
    "import matplotlib.pyplot as plt\n",
    "\n",
    "import Utils.dbutils as dbutils\n",
    "import Utils.data_utils as data_utils\n",
    "# import Utils.PopulateAux as PopulateAux\n",
    "import Generators.CohortGenerator as CohortGenerator\n",
    "import Generators.FeatureGenerator as FeatureGenerator\n",
    "import config\n",
    "local_imports = (\n",
    "    dbutils,\n",
    "    data_utils,\n",
    "    # PopulateAux,\n",
    "    CohortGenerator,\n",
    "    FeatureGenerator,\n",
    "    config\n",
    ")\n",
    "for i in local_imports:\n",
    "    i = importlib.reload(i)"
   ]
  },
  {
   "cell_type": "markdown",
   "metadata": {},
   "source": [
    "## Cohort, Outcome and Feature Collection\n",
    "\n",
    "### 1. Set up a connection to the OMOP CDM database\n",
    "\n",
    "Parameters for connection to be specified in ./config.py"
   ]
  },
  {
   "cell_type": "code",
   "execution_count": 32,
   "metadata": {},
   "outputs": [],
   "source": [
    "config_path = 'hive://localhost:10000/'\n",
    "omop_cdm_schema = 'cdm'\n",
    "db = dbutils.Database(config_path, omop_cdm_schema)"
   ]
  },
  {
   "cell_type": "markdown",
   "metadata": {},
   "source": [
    "### Build a Cohort for the End of Life Prediction Task"
   ]
  },
  {
   "cell_type": "markdown",
   "metadata": {},
   "source": [
    "##### Create a Cohort Object that can be constructed as specified by SQL File & Params"
   ]
  },
  {
   "cell_type": "code",
   "execution_count": 33,
   "metadata": {},
   "outputs": [],
   "source": [
    "cohort_table_name = 'eol_cohort'\n",
    "cohort_script_path = config.SQL_PATH_COHORTS + '/gen_EOL_cohort_medicare_no_enrollment_HIVE_SMALL.sql'\n",
    "\n",
    "# cohort parameters  \n",
    "params = {\n",
    "          'omop_cdm_schema'       : omop_cdm_schema,\n",
    "          'aux_data_schema'       : config.CDM_AUX_SCHEMA,\n",
    "          'training_start_date'   : '2016-01-01',\n",
    "          'training_end_date'     : '2017-01-01',\n",
    "          'gap'                   : '3 months',\n",
    "          'outcome_window'        : '6 months'\n",
    "         }"
   ]
  },
  {
   "cell_type": "markdown",
   "metadata": {},
   "source": [
    "### Get a Time Series of Features for Cohort Members"
   ]
  },
  {
   "cell_type": "code",
   "execution_count": 8,
   "metadata": {},
   "outputs": [],
   "source": [
    "featureSet = FeatureGenerator.FeatureSet(db)\n",
    "featureSet.add_default_features(\n",
    "    ['drugs','conditions', 'procedures','specialty'],\n",
    "    omop_cdm_schema=omop_cdm_schema,\n",
    "    cohort_table_name=cohort_table_name\n",
    ")"
   ]
  },
  {
   "cell_type": "code",
   "execution_count": 9,
   "metadata": {},
   "outputs": [
    {
     "name": "stdout",
     "output_type": "stream",
     "text": [
      "(4979103, 6)\n",
      "Data loaded to buffer in 3346.03 seconds\n",
      "Got Unique Concepts and Timestamps in 5.46 seconds\n",
      "Created Index Mappings in 0.00 seconds\n",
      "5082\n",
      "Generated Sparse Representation of Data in 11.53 seconds\n",
      "CPU times: user 1min 45s, sys: 3.66 s, total: 1min 49s\n",
      "Wall time: 58min 59s\n"
     ]
    }
   ],
   "source": [
    "%%time\n",
    "# Build the Feature Set by executing SQL queries and reading into sparse matrices\n",
    "cache_data_path = '/tmp/cache_data_eol_test2'\n",
    "cohort = featureSet.build(omop_cdm_schema=omop_cdm_schema,\n",
    "                 cohort_table_name=cohort_table_name,\n",
    "                 cohort_generation_script=cohort_script_path,\n",
    "                 cohort_generation_kwargs=params,\n",
    "                 outcome_col_name='y',\n",
    "                 from_cached=False, \n",
    "                 cache_file=cache_data_path)"
   ]
  },
  {
   "cell_type": "code",
   "execution_count": 10,
   "metadata": {},
   "outputs": [],
   "source": [
    "outcomes_filt, feature_matrix_3d_transpose, remap, good_feature_names = \\\n",
    "    FeatureGenerator.postprocess_feature_matrix(cohort, featureSet, cohort_generation_kwargs=params)"
   ]
  },
  {
   "cell_type": "markdown",
   "metadata": {},
   "source": [
    "### Build a Model to Predict End of Life using this data"
   ]
  },
  {
   "cell_type": "markdown",
   "metadata": {},
   "source": [
    "#### Transform Data to get a vector of counts over 1, 6, 12, 24 and infinity (represented by 10000 days) month windows for each Patient"
   ]
  },
  {
   "cell_type": "code",
   "execution_count": 11,
   "metadata": {},
   "outputs": [
    {
     "name": "stdout",
     "output_type": "stream",
     "text": [
      "CPU times: user 26.3 s, sys: 168 ms, total: 26.5 s\n",
      "Wall time: 26.5 s\n"
     ]
    }
   ],
   "source": [
    "%%time\n",
    "feature_matrix_counts, feature_names = data_utils.window_data(\n",
    "    window_lengths = [30, 180, 365, 730, 10000],\n",
    "    feature_matrix = feature_matrix_3d_transpose,\n",
    "    all_feature_names = good_feature_names,\n",
    "    cohort_generation_kwargs = params,\n",
    "    featureSet = featureSet\n",
    ")"
   ]
  },
  {
   "cell_type": "code",
   "execution_count": 12,
   "metadata": {},
   "outputs": [
    {
     "data": {
      "text/plain": [
       "<4968x88845 sparse matrix of type '<class 'numpy.float64'>'\n",
       "\twith 1206011 stored elements in Compressed Sparse Column format>"
      ]
     },
     "execution_count": 12,
     "metadata": {},
     "output_type": "execute_result"
    }
   ],
   "source": [
    "feature_matrix_counts.T"
   ]
  },
  {
   "cell_type": "markdown",
   "metadata": {},
   "source": [
    "#### Set up a standard sklearn modelling pipeline"
   ]
  },
  {
   "cell_type": "code",
   "execution_count": 13,
   "metadata": {},
   "outputs": [],
   "source": [
    "from sklearn.linear_model import LogisticRegression\n",
    "from sklearn.preprocessing import FunctionTransformer\n",
    "from sklearn.pipeline import Pipeline\n",
    "from sklearn.model_selection import train_test_split\n",
    "from sklearn.metrics import roc_auc_score, roc_curve, precision_recall_curve, average_precision_score\n",
    "\n",
    "def sparse_ufunc(f):\n",
    "    def wrapper(*a, **k):\n",
    "        X = a[0]\n",
    "        if not scipy.sparse.isspmatrix(X):\n",
    "            raise ValueError\n",
    "        X2 = X.copy()\n",
    "        X2.data = f(X2.data, *(a[1:]), **k)\n",
    "        return X2\n",
    "    return wrapper\n",
    "\n",
    "@sparse_ufunc\n",
    "def tr_func(X, kwarg=1):\n",
    "    return np.clip(X, 0, kwarg)\n",
    "\n",
    "func = FunctionTransformer(\n",
    "    func=tr_func,\n",
    "    accept_sparse=True,\n",
    "    validate=True,\n",
    "    kw_args={'kwarg': 1}\n",
    ")"
   ]
  },
  {
   "cell_type": "markdown",
   "metadata": {},
   "source": [
    "#### Instantiate, Train, Validate and Test Model"
   ]
  },
  {
   "cell_type": "code",
   "execution_count": 14,
   "metadata": {},
   "outputs": [],
   "source": [
    "from tqdm.notebook import tqdm"
   ]
  },
  {
   "cell_type": "code",
   "execution_count": 15,
   "metadata": {},
   "outputs": [
    {
     "data": {
      "application/vnd.jupyter.widget-view+json": {
       "model_id": "f49334e675ed4abe91b3dfa6e222e3c3",
       "version_major": 2,
       "version_minor": 0
      },
      "text/plain": [
       "HBox(children=(IntProgress(value=0, max=6), HTML(value='')))"
      ]
     },
     "metadata": {},
     "output_type": "display_data"
    },
    {
     "name": "stdout",
     "output_type": "stream",
     "text": [
      "\n"
     ]
    },
    {
     "data": {
      "image/png": "[encoded data removed]",
      "text/plain": [
       "<Figure size 432x288 with 1 Axes>"
      ]
     },
     "metadata": {
      "needs_background": "light"
     },
     "output_type": "display_data"
    },
    {
     "name": "stdout",
     "output_type": "stream",
     "text": [
      "Model Test AUC: 0.67\n"
     ]
    }
   ],
   "source": [
    "indices = range(len(outcomes_filt))\n",
    "X_train, X_test, y_train, y_test, indices_train, indices_test = train_test_split(\n",
    "    feature_matrix_counts.T, outcomes_filt, indices,\n",
    "    test_size=0.33, random_state=1\n",
    ")\n",
    "\n",
    "# Define validation set and search space\n",
    "VAL_SZ = 100\n",
    "vals = [1e-5, 1e-4, 1e-3, 1e-2, 1e-1, 1e0]\n",
    "scores = []\n",
    "best_score = -1\n",
    "best_model = None\n",
    "\n",
    "# Pick best regularization constant\n",
    "for C in tqdm(vals):\n",
    "    lr = LogisticRegression(\n",
    "        class_weight='balanced', C=C,\n",
    "        penalty='l1', fit_intercept=True,\n",
    "        solver='liblinear', random_state=0,\n",
    "        verbose=0, max_iter = 200, tol=1e-1\n",
    "    )\n",
    "    clf = Pipeline([\n",
    "        ('func',func),\n",
    "        ('lr', lr)\n",
    "    ])\n",
    "    clf.fit(X_train, y_train)\n",
    "    score = roc_auc_score(y_test[:VAL_SZ], clf.predict_proba(X_test[:VAL_SZ, :])[:, 1])\n",
    "    if score > best_score:\n",
    "        best_score = score\n",
    "        best_model = clf\n",
    "    scores.append(score)\n",
    "    \n",
    "# Show results\n",
    "plt.plot(np.log(np.array(vals)), scores)\n",
    "plt.show();\n",
    "pred = best_model.predict_proba(X_test[VAL_SZ:, :])[:, 1]\n",
    "print('Model Test AUC: {0:.2f}'.format(roc_auc_score(y_test[VAL_SZ:], pred)))"
   ]
  },
  {
   "cell_type": "markdown",
   "metadata": {},
   "source": [
    "#### Evaluate Model : RoC and Precision-Recall Curves"
   ]
  },
  {
   "cell_type": "code",
   "execution_count": 16,
   "metadata": {},
   "outputs": [
    {
     "data": {
      "image/png": "[encoded data removed]",
      "text/plain": [
       "<Figure size 432x288 with 1 Axes>"
      ]
     },
     "metadata": {
      "needs_background": "light"
     },
     "output_type": "display_data"
    }
   ],
   "source": [
    "fpr, tpr, _ = roc_curve(y_test[VAL_SZ:], pred)\n",
    "plt.figure()\n",
    "lw = 2\n",
    "plt.fill_between(fpr, tpr, color='b', alpha = 0.2,\n",
    "         lw=lw, label='ROC curve (area = %0.2f)' % roc_auc_score(y_test[VAL_SZ:], pred))\n",
    "plt.plot([0, 1], [0, 1], color='navy', lw=lw, linestyle='--')\n",
    "plt.xlim([0.0, 1.0])\n",
    "plt.ylim([0.0, 1.05])\n",
    "plt.xlabel('False Positive Rate')\n",
    "plt.ylabel('True Positive Rate')\n",
    "plt.title('Receiver operating characteristic - EoL Model')\n",
    "plt.legend(loc=\"lower right\")\n",
    "plt.show()"
   ]
  },
  {
   "cell_type": "code",
   "execution_count": 17,
   "metadata": {},
   "outputs": [
    {
     "data": {
      "image/png": "[encoded data removed]",
      "text/plain": [
       "<Figure size 432x288 with 1 Axes>"
      ]
     },
     "metadata": {
      "needs_background": "light"
     },
     "output_type": "display_data"
    }
   ],
   "source": [
    "precision, recall, _ = precision_recall_curve(y_test[VAL_SZ:], pred)\n",
    "\n",
    "from sklearn.metrics import average_precision_score\n",
    "average_precision = average_precision_score(y_test[VAL_SZ:], pred)\n",
    "\n",
    "plt.figure()\n",
    "plt.step(recall, precision, color='b', alpha=0.2,\n",
    "         where='post')\n",
    "plt.fill_between(\n",
    "    recall, precision, alpha=0.2, color='b',\n",
    "    label='P-R curve (average precision = %0.2f)' % average_precision\n",
    ")\n",
    "\n",
    "plt.xlabel('Recall')\n",
    "plt.ylabel('Precision')\n",
    "plt.ylim([0.0, 0.5])\n",
    "plt.xlim([0.0, 1.0])\n",
    "plt.legend(loc=\"upper right\")\n",
    "plt.title('Precision-Recall curve - EoL Model')\n",
    "plt.show()"
   ]
  },
  {
   "cell_type": "markdown",
   "metadata": {},
   "source": [
    "#### Evaluate Model : Extract Feature Weights"
   ]
  },
  {
   "cell_type": "code",
   "execution_count": 18,
   "metadata": {},
   "outputs": [
    {
     "name": "stderr",
     "output_type": "stream",
     "text": [
      "/home/justinl/miniconda3/lib/python3.7/site-packages/ipykernel_launcher.py:5: FutureWarning: Passing a negative integer is deprecated in version 1.0 and will not be supported in future version. Instead, use None to not limit the column width.\n",
      "  \"\"\"\n"
     ]
    }
   ],
   "source": [
    "feature_weights = pd.DataFrame({\n",
    "    'feature_name': feature_names,\n",
    "    'feature_weight': list(best_model.get_params()['lr'].coef_[0])\n",
    "}).sort_values(by='feature_weight')\n",
    "pd.set_option('display.max_colwidth', -1)"
   ]
  },
  {
   "cell_type": "code",
   "execution_count": 19,
   "metadata": {},
   "outputs": [
    {
     "data": {
      "text/html": [
       "<div>\n",
       "<style scoped>\n",
       "    .dataframe tbody tr th:only-of-type {\n",
       "        vertical-align: middle;\n",
       "    }\n",
       "\n",
       "    .dataframe tbody tr th {\n",
       "        vertical-align: top;\n",
       "    }\n",
       "\n",
       "    .dataframe thead th {\n",
       "        text-align: right;\n",
       "    }\n",
       "</style>\n",
       "<table border=\"1\" class=\"dataframe\">\n",
       "  <thead>\n",
       "    <tr style=\"text-align: right;\">\n",
       "      <th></th>\n",
       "      <th>feature_name</th>\n",
       "      <th>feature_weight</th>\n",
       "    </tr>\n",
       "  </thead>\n",
       "  <tbody>\n",
       "    <tr>\n",
       "      <th>71413</th>\n",
       "      <td>134438 - condition - Contact dermatitis - 10000 days</td>\n",
       "      <td>0.529160</td>\n",
       "    </tr>\n",
       "    <tr>\n",
       "      <th>86550</th>\n",
       "      <td>440417 - condition - Pulmonary embolism - 10000 days</td>\n",
       "      <td>0.531226</td>\n",
       "    </tr>\n",
       "    <tr>\n",
       "      <th>31527</th>\n",
       "      <td>42902111 - drug - methylprednisolone acetate 40 MG/ML Injectable Suspension [Depo-Medrol] - 180 days</td>\n",
       "      <td>0.554695</td>\n",
       "    </tr>\n",
       "    <tr>\n",
       "      <th>50464</th>\n",
       "      <td>436222 - condition - Altered mental status - 365 days</td>\n",
       "      <td>0.575325</td>\n",
       "    </tr>\n",
       "    <tr>\n",
       "      <th>72717</th>\n",
       "      <td>19079119 - drug - Nystatin 100000 UNT/ML Oral Suspension - 10000 days</td>\n",
       "      <td>0.586268</td>\n",
       "    </tr>\n",
       "    <tr>\n",
       "      <th>37196</th>\n",
       "      <td>19079658 - drug - Spironolactone 25 MG Oral Tablet - 365 days</td>\n",
       "      <td>0.591558</td>\n",
       "    </tr>\n",
       "    <tr>\n",
       "      <th>76341</th>\n",
       "      <td>2211451 - procedure - Radiologic examination, elbow; complete, minimum of 3 views - 10000 days</td>\n",
       "      <td>0.596300</td>\n",
       "    </tr>\n",
       "    <tr>\n",
       "      <th>56627</th>\n",
       "      <td>2102166 - procedure - Repair, intermediate, wounds of scalp, axillae, trunk and/or extremities (excluding hands and feet); 2.6 cm to 7.5 cm - 730 days</td>\n",
       "      <td>0.611915</td>\n",
       "    </tr>\n",
       "    <tr>\n",
       "      <th>87345</th>\n",
       "      <td>45768812 - condition - Anemia in chronic kidney disease - 10000 days</td>\n",
       "      <td>0.627178</td>\n",
       "    </tr>\n",
       "    <tr>\n",
       "      <th>59518</th>\n",
       "      <td>257011 - condition - Acute upper respiratory infection - 730 days</td>\n",
       "      <td>0.666515</td>\n",
       "    </tr>\n",
       "    <tr>\n",
       "      <th>71269</th>\n",
       "      <td>132706 - condition - Disorder of nail - 10000 days</td>\n",
       "      <td>0.681947</td>\n",
       "    </tr>\n",
       "    <tr>\n",
       "      <th>18603</th>\n",
       "      <td>1551192 - drug - Prednisone 5 MG Oral Tablet - 180 days</td>\n",
       "      <td>0.749667</td>\n",
       "    </tr>\n",
       "    <tr>\n",
       "      <th>76340</th>\n",
       "      <td>2211450 - procedure - Radiologic examination, elbow; 2 views - 10000 days</td>\n",
       "      <td>0.761511</td>\n",
       "    </tr>\n",
       "    <tr>\n",
       "      <th>77434</th>\n",
       "      <td>2721064 - procedure - Annual gynecological examination, established patient - 10000 days</td>\n",
       "      <td>0.772597</td>\n",
       "    </tr>\n",
       "    <tr>\n",
       "      <th>76804</th>\n",
       "      <td>2313827 - procedure - Rhythm ECG, 1-3 leads; interpretation and report only - 10000 days</td>\n",
       "      <td>0.898113</td>\n",
       "    </tr>\n",
       "    <tr>\n",
       "      <th>83788</th>\n",
       "      <td>4182210 - condition - Dementia - 10000 days</td>\n",
       "      <td>0.898862</td>\n",
       "    </tr>\n",
       "    <tr>\n",
       "      <th>80293</th>\n",
       "      <td>378419 - condition - Alzheimer's disease - 10000 days</td>\n",
       "      <td>0.937482</td>\n",
       "    </tr>\n",
       "    <tr>\n",
       "      <th>85948</th>\n",
       "      <td>435796 - condition - Dehydration - 10000 days</td>\n",
       "      <td>0.977530</td>\n",
       "    </tr>\n",
       "    <tr>\n",
       "      <th>72771</th>\n",
       "      <td>19082350 - drug - 24 HR Isosorbide Mononitrate 30 MG Extended Release Oral Tablet - 10000 days</td>\n",
       "      <td>1.144873</td>\n",
       "    </tr>\n",
       "    <tr>\n",
       "      <th>82167</th>\n",
       "      <td>40485932 - procedure - Endoscopy and biopsy of upper gastrointestinal tract - 10000 days</td>\n",
       "      <td>1.317514</td>\n",
       "    </tr>\n",
       "  </tbody>\n",
       "</table>\n",
       "</div>"
      ],
      "text/plain": [
       "                                                                                                                                                 feature_name  \\\n",
       "71413  134438 - condition - Contact dermatitis - 10000 days                                                                                                     \n",
       "86550  440417 - condition - Pulmonary embolism - 10000 days                                                                                                     \n",
       "31527  42902111 - drug - methylprednisolone acetate 40 MG/ML Injectable Suspension [Depo-Medrol] - 180 days                                                     \n",
       "50464  436222 - condition - Altered mental status - 365 days                                                                                                    \n",
       "72717  19079119 - drug - Nystatin 100000 UNT/ML Oral Suspension - 10000 days                                                                                    \n",
       "37196  19079658 - drug - Spironolactone 25 MG Oral Tablet - 365 days                                                                                            \n",
       "76341  2211451 - procedure - Radiologic examination, elbow; complete, minimum of 3 views - 10000 days                                                           \n",
       "56627  2102166 - procedure - Repair, intermediate, wounds of scalp, axillae, trunk and/or extremities (excluding hands and feet); 2.6 cm to 7.5 cm - 730 days   \n",
       "87345  45768812 - condition - Anemia in chronic kidney disease - 10000 days                                                                                     \n",
       "59518  257011 - condition - Acute upper respiratory infection - 730 days                                                                                        \n",
       "71269  132706 - condition - Disorder of nail - 10000 days                                                                                                       \n",
       "18603  1551192 - drug - Prednisone 5 MG Oral Tablet - 180 days                                                                                                  \n",
       "76340  2211450 - procedure - Radiologic examination, elbow; 2 views - 10000 days                                                                                \n",
       "77434  2721064 - procedure - Annual gynecological examination, established patient - 10000 days                                                                 \n",
       "76804  2313827 - procedure - Rhythm ECG, 1-3 leads; interpretation and report only - 10000 days                                                                 \n",
       "83788  4182210 - condition - Dementia - 10000 days                                                                                                              \n",
       "80293  378419 - condition - Alzheimer's disease - 10000 days                                                                                                    \n",
       "85948  435796 - condition - Dehydration - 10000 days                                                                                                            \n",
       "72771  19082350 - drug - 24 HR Isosorbide Mononitrate 30 MG Extended Release Oral Tablet - 10000 days                                                           \n",
       "82167  40485932 - procedure - Endoscopy and biopsy of upper gastrointestinal tract - 10000 days                                                                 \n",
       "\n",
       "       feature_weight  \n",
       "71413  0.529160        \n",
       "86550  0.531226        \n",
       "31527  0.554695        \n",
       "50464  0.575325        \n",
       "72717  0.586268        \n",
       "37196  0.591558        \n",
       "76341  0.596300        \n",
       "56627  0.611915        \n",
       "87345  0.627178        \n",
       "59518  0.666515        \n",
       "71269  0.681947        \n",
       "18603  0.749667        \n",
       "76340  0.761511        \n",
       "77434  0.772597        \n",
       "76804  0.898113        \n",
       "83788  0.898862        \n",
       "80293  0.937482        \n",
       "85948  0.977530        \n",
       "72771  1.144873        \n",
       "82167  1.317514        "
      ]
     },
     "execution_count": 19,
     "metadata": {},
     "output_type": "execute_result"
    }
   ],
   "source": [
    "feature_weights.tail(20)"
   ]
  },
  {
   "cell_type": "code",
   "execution_count": 20,
   "metadata": {},
   "outputs": [
    {
     "data": {
      "text/html": [
       "<div>\n",
       "<style scoped>\n",
       "    .dataframe tbody tr th:only-of-type {\n",
       "        vertical-align: middle;\n",
       "    }\n",
       "\n",
       "    .dataframe tbody tr th {\n",
       "        vertical-align: top;\n",
       "    }\n",
       "\n",
       "    .dataframe thead th {\n",
       "        text-align: right;\n",
       "    }\n",
       "</style>\n",
       "<table border=\"1\" class=\"dataframe\">\n",
       "  <thead>\n",
       "    <tr style=\"text-align: right;\">\n",
       "      <th></th>\n",
       "      <th>feature_name</th>\n",
       "      <th>feature_weight</th>\n",
       "    </tr>\n",
       "  </thead>\n",
       "  <tbody>\n",
       "    <tr>\n",
       "      <th>58765</th>\n",
       "      <td>2211826 - procedure - Dual-energy X-ray absorptiometry (DXA), bone density study, 1 or more sites; axial skeleton (eg, hips, pelvis, spine) - 730 days</td>\n",
       "      <td>-1.118883</td>\n",
       "    </tr>\n",
       "    <tr>\n",
       "      <th>6051</th>\n",
       "      <td>2414397 - procedure - Office or other outpatient visit for the evaluation and management of an established patient, which requires at least 2 of these 3 key components: An expanded problem focused history; An expanded problem focused examination; Medical decision making of low - 30 days</td>\n",
       "      <td>-0.767099</td>\n",
       "    </tr>\n",
       "    <tr>\n",
       "      <th>80884</th>\n",
       "      <td>40164929 - drug - Metformin hydrochloride 500 MG Oral Tablet - 10000 days</td>\n",
       "      <td>-0.761438</td>\n",
       "    </tr>\n",
       "    <tr>\n",
       "      <th>70522</th>\n",
       "      <td>77670 - condition - Chest pain - 730 days</td>\n",
       "      <td>-0.755580</td>\n",
       "    </tr>\n",
       "    <tr>\n",
       "      <th>59359</th>\n",
       "      <td>2414398 - procedure - Office or other outpatient visit for the evaluation and management of an established patient, which requires at least 2 of these 3 key components: A detailed history; A detailed examination; Medical decision making of moderate complexity. Counseling and/o - 730 days</td>\n",
       "      <td>-0.718390</td>\n",
       "    </tr>\n",
       "    <tr>\n",
       "      <th>38227</th>\n",
       "      <td>200219 - condition - Abdominal pain - 365 days</td>\n",
       "      <td>-0.599438</td>\n",
       "    </tr>\n",
       "    <tr>\n",
       "      <th>72749</th>\n",
       "      <td>19080128 - drug - Lisinopril 10 MG Oral Tablet - 10000 days</td>\n",
       "      <td>-0.595966</td>\n",
       "    </tr>\n",
       "    <tr>\n",
       "      <th>76371</th>\n",
       "      <td>2211488 - procedure - Radiologic examination, ankle; complete, minimum of 3 views - 10000 days</td>\n",
       "      <td>-0.595503</td>\n",
       "    </tr>\n",
       "    <tr>\n",
       "      <th>23819</th>\n",
       "      <td>2414396 - procedure - Office or other outpatient visit for the evaluation and management of an established patient, which requires at least 2 of these 3 key components: A problem focused history; A problem focused examination; Straightforward medical decision making. Counselin - 180 days</td>\n",
       "      <td>-0.578739</td>\n",
       "    </tr>\n",
       "    <tr>\n",
       "      <th>67679</th>\n",
       "      <td>433736 - condition - Obesity - 730 days</td>\n",
       "      <td>-0.573255</td>\n",
       "    </tr>\n",
       "    <tr>\n",
       "      <th>72750</th>\n",
       "      <td>19080129 - drug - Lisinopril 20 MG Oral Tablet - 10000 days</td>\n",
       "      <td>-0.553497</td>\n",
       "    </tr>\n",
       "    <tr>\n",
       "      <th>74187</th>\n",
       "      <td>2100978 - procedure - Anesthesia for lower intestinal endoscopic procedures, endoscope introduced distal to duodenum - 10000 days</td>\n",
       "      <td>-0.509671</td>\n",
       "    </tr>\n",
       "    <tr>\n",
       "      <th>79360</th>\n",
       "      <td>321596 - condition - Peripheral venous insufficiency - 10000 days</td>\n",
       "      <td>-0.484926</td>\n",
       "    </tr>\n",
       "    <tr>\n",
       "      <th>79301</th>\n",
       "      <td>318800 - condition - Gastroesophageal reflux disease - 10000 days</td>\n",
       "      <td>-0.473240</td>\n",
       "    </tr>\n",
       "    <tr>\n",
       "      <th>64011</th>\n",
       "      <td>4024561 - condition - Pain in lower limb - 730 days</td>\n",
       "      <td>-0.432752</td>\n",
       "    </tr>\n",
       "    <tr>\n",
       "      <th>68427</th>\n",
       "      <td>437663 - condition - Fever - 730 days</td>\n",
       "      <td>-0.402624</td>\n",
       "    </tr>\n",
       "    <tr>\n",
       "      <th>32004</th>\n",
       "      <td>432867 - condition - Hyperlipidemia - 180 days</td>\n",
       "      <td>-0.379116</td>\n",
       "    </tr>\n",
       "    <tr>\n",
       "      <th>79249</th>\n",
       "      <td>316822 - condition - Heart murmur - 10000 days</td>\n",
       "      <td>-0.350486</td>\n",
       "    </tr>\n",
       "    <tr>\n",
       "      <th>77144</th>\n",
       "      <td>2514403 - procedure - Initial observation care, per day, for the evaluation and management of a patient, which requires these 3 key components: A comprehensive history; A comprehensive examination; and Medical decision making of high complexity. Counseling and/or coordination  - 10000 days</td>\n",
       "      <td>-0.348226</td>\n",
       "    </tr>\n",
       "    <tr>\n",
       "      <th>66600</th>\n",
       "      <td>42627987 - procedure - Screening mammography, bilateral (2-view study of each breast), including computer-aided detection (CAD) when performed - 730 days</td>\n",
       "      <td>-0.305556</td>\n",
       "    </tr>\n",
       "  </tbody>\n",
       "</table>\n",
       "</div>"
      ],
      "text/plain": [
       "                                                                                                                                                                                                                                                                                             feature_name  \\\n",
       "58765  2211826 - procedure - Dual-energy X-ray absorptiometry (DXA), bone density study, 1 or more sites; axial skeleton (eg, hips, pelvis, spine) - 730 days                                                                                                                                               \n",
       "6051   2414397 - procedure - Office or other outpatient visit for the evaluation and management of an established patient, which requires at least 2 of these 3 key components: An expanded problem focused history; An expanded problem focused examination; Medical decision making of low - 30 days      \n",
       "80884  40164929 - drug - Metformin hydrochloride 500 MG Oral Tablet - 10000 days                                                                                                                                                                                                                            \n",
       "70522  77670 - condition - Chest pain - 730 days                                                                                                                                                                                                                                                            \n",
       "59359  2414398 - procedure - Office or other outpatient visit for the evaluation and management of an established patient, which requires at least 2 of these 3 key components: A detailed history; A detailed examination; Medical decision making of moderate complexity. Counseling and/o - 730 days     \n",
       "38227  200219 - condition - Abdominal pain - 365 days                                                                                                                                                                                                                                                       \n",
       "72749  19080128 - drug - Lisinopril 10 MG Oral Tablet - 10000 days                                                                                                                                                                                                                                          \n",
       "76371  2211488 - procedure - Radiologic examination, ankle; complete, minimum of 3 views - 10000 days                                                                                                                                                                                                       \n",
       "23819  2414396 - procedure - Office or other outpatient visit for the evaluation and management of an established patient, which requires at least 2 of these 3 key components: A problem focused history; A problem focused examination; Straightforward medical decision making. Counselin - 180 days     \n",
       "67679  433736 - condition - Obesity - 730 days                                                                                                                                                                                                                                                              \n",
       "72750  19080129 - drug - Lisinopril 20 MG Oral Tablet - 10000 days                                                                                                                                                                                                                                          \n",
       "74187  2100978 - procedure - Anesthesia for lower intestinal endoscopic procedures, endoscope introduced distal to duodenum - 10000 days                                                                                                                                                                    \n",
       "79360  321596 - condition - Peripheral venous insufficiency - 10000 days                                                                                                                                                                                                                                    \n",
       "79301  318800 - condition - Gastroesophageal reflux disease - 10000 days                                                                                                                                                                                                                                    \n",
       "64011  4024561 - condition - Pain in lower limb - 730 days                                                                                                                                                                                                                                                  \n",
       "68427  437663 - condition - Fever - 730 days                                                                                                                                                                                                                                                                \n",
       "32004  432867 - condition - Hyperlipidemia - 180 days                                                                                                                                                                                                                                                       \n",
       "79249  316822 - condition - Heart murmur - 10000 days                                                                                                                                                                                                                                                       \n",
       "77144  2514403 - procedure - Initial observation care, per day, for the evaluation and management of a patient, which requires these 3 key components: A comprehensive history; A comprehensive examination; and Medical decision making of high complexity. Counseling and/or coordination  - 10000 days   \n",
       "66600  42627987 - procedure - Screening mammography, bilateral (2-view study of each breast), including computer-aided detection (CAD) when performed - 730 days                                                                                                                                            \n",
       "\n",
       "       feature_weight  \n",
       "58765 -1.118883        \n",
       "6051  -0.767099        \n",
       "80884 -0.761438        \n",
       "70522 -0.755580        \n",
       "59359 -0.718390        \n",
       "38227 -0.599438        \n",
       "72749 -0.595966        \n",
       "76371 -0.595503        \n",
       "23819 -0.578739        \n",
       "67679 -0.573255        \n",
       "72750 -0.553497        \n",
       "74187 -0.509671        \n",
       "79360 -0.484926        \n",
       "79301 -0.473240        \n",
       "64011 -0.432752        \n",
       "68427 -0.402624        \n",
       "32004 -0.379116        \n",
       "79249 -0.350486        \n",
       "77144 -0.348226        \n",
       "66600 -0.305556        "
      ]
     },
     "execution_count": 20,
     "metadata": {},
     "output_type": "execute_result"
    }
   ],
   "source": [
    "feature_weights.head(20)"
   ]
  },
  {
   "cell_type": "code",
   "execution_count": 21,
   "metadata": {},
   "outputs": [
    {
     "name": "stdout",
     "output_type": "stream",
     "text": [
      "Number of nonzero procedure feature weights : 70\n",
      "Number of nonzero condition feature weights : 120\n",
      "Number of nonzero drug feature weights : 38\n",
      "Number of nonzero specialty feature weights : 1\n"
     ]
    }
   ],
   "source": [
    "for category in ['procedure', 'condition', 'drug', 'specialty']:\n",
    "    print('Number of nonzero {} feature weights : {}'.format(\n",
    "        category,\n",
    "        sum(feature_weights.loc[\n",
    "            [i for i,j in enumerate(feature_names) if '- ' + category + ' -' in j]\n",
    "        ]['feature_weight'] != 0)\n",
    "    ))"
   ]
  },
  {
   "cell_type": "code",
   "execution_count": null,
   "metadata": {},
   "outputs": [],
   "source": []
  }
 ],
 "metadata": {
  "kernelspec": {
   "display_name": "base",
   "language": "python",
   "name": "base"
  },
  "language_info": {
   "codemirror_mode": {
    "name": "ipython",
    "version": 3
   },
   "file_extension": ".py",
   "mimetype": "text/x-python",
   "name": "python",
   "nbconvert_exporter": "python",
   "pygments_lexer": "ipython3",
   "version": "3.7.4"
  }
 },
 "nbformat": 4,
 "nbformat_minor": 4
}
